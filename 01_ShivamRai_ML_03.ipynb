{
 "cells": [
  {
   "cell_type": "code",
   "execution_count": 78,
   "id": "ef33dac7",
   "metadata": {},
   "outputs": [],
   "source": [
    "import pandas as pd \n",
    "import numpy as np\n",
    "import matplotlib.pyplot as plt"
   ]
  },
  {
   "cell_type": "code",
   "execution_count": 2,
   "id": "7312d4ad",
   "metadata": {},
   "outputs": [],
   "source": [
    "df = pd.read_csv('C:/Users/MSCIT/Downloads/IceCreamData.csv')"
   ]
  },
  {
   "cell_type": "code",
   "execution_count": 5,
   "id": "70a57bca",
   "metadata": {},
   "outputs": [
    {
     "name": "stdout",
     "output_type": "stream",
     "text": [
      "<class 'pandas.core.frame.DataFrame'>\n",
      "RangeIndex: 500 entries, 0 to 499\n",
      "Data columns (total 2 columns):\n",
      " #   Column       Non-Null Count  Dtype  \n",
      "---  ------       --------------  -----  \n",
      " 0   Temperature  500 non-null    float64\n",
      " 1   Revenue      500 non-null    float64\n",
      "dtypes: float64(2)\n",
      "memory usage: 7.9 KB\n"
     ]
    }
   ],
   "source": [
    "df.info()"
   ]
  },
  {
   "cell_type": "code",
   "execution_count": 6,
   "id": "baa70ed3",
   "metadata": {},
   "outputs": [
    {
     "data": {
      "text/html": [
       "<div>\n",
       "<style scoped>\n",
       "    .dataframe tbody tr th:only-of-type {\n",
       "        vertical-align: middle;\n",
       "    }\n",
       "\n",
       "    .dataframe tbody tr th {\n",
       "        vertical-align: top;\n",
       "    }\n",
       "\n",
       "    .dataframe thead th {\n",
       "        text-align: right;\n",
       "    }\n",
       "</style>\n",
       "<table border=\"1\" class=\"dataframe\">\n",
       "  <thead>\n",
       "    <tr style=\"text-align: right;\">\n",
       "      <th></th>\n",
       "      <th>Temperature</th>\n",
       "      <th>Revenue</th>\n",
       "    </tr>\n",
       "  </thead>\n",
       "  <tbody>\n",
       "    <tr>\n",
       "      <th>0</th>\n",
       "      <td>24.566884</td>\n",
       "      <td>534.799028</td>\n",
       "    </tr>\n",
       "    <tr>\n",
       "      <th>1</th>\n",
       "      <td>26.005191</td>\n",
       "      <td>625.190122</td>\n",
       "    </tr>\n",
       "    <tr>\n",
       "      <th>2</th>\n",
       "      <td>27.790554</td>\n",
       "      <td>660.632289</td>\n",
       "    </tr>\n",
       "    <tr>\n",
       "      <th>3</th>\n",
       "      <td>20.595335</td>\n",
       "      <td>487.706960</td>\n",
       "    </tr>\n",
       "    <tr>\n",
       "      <th>4</th>\n",
       "      <td>11.503498</td>\n",
       "      <td>316.240194</td>\n",
       "    </tr>\n",
       "  </tbody>\n",
       "</table>\n",
       "</div>"
      ],
      "text/plain": [
       "   Temperature     Revenue\n",
       "0    24.566884  534.799028\n",
       "1    26.005191  625.190122\n",
       "2    27.790554  660.632289\n",
       "3    20.595335  487.706960\n",
       "4    11.503498  316.240194"
      ]
     },
     "execution_count": 6,
     "metadata": {},
     "output_type": "execute_result"
    }
   ],
   "source": [
    "df.head()"
   ]
  },
  {
   "cell_type": "code",
   "execution_count": 8,
   "id": "1e65439e",
   "metadata": {},
   "outputs": [
    {
     "data": {
      "text/plain": [
       "Temperature      8.096388\n",
       "Revenue        175.404751\n",
       "dtype: float64"
      ]
     },
     "execution_count": 8,
     "metadata": {},
     "output_type": "execute_result"
    }
   ],
   "source": [
    "df.std()"
   ]
  },
  {
   "cell_type": "code",
   "execution_count": 9,
   "id": "15c2a23e",
   "metadata": {},
   "outputs": [
    {
     "data": {
      "text/plain": [
       "Temperature    1\n",
       "Revenue        0\n",
       "dtype: int64"
      ]
     },
     "execution_count": 9,
     "metadata": {},
     "output_type": "execute_result"
    }
   ],
   "source": [
    "(df==0).sum()"
   ]
  },
  {
   "cell_type": "code",
   "execution_count": 10,
   "id": "e702777a",
   "metadata": {},
   "outputs": [
    {
     "data": {
      "text/plain": [
       "Temperature    0\n",
       "Revenue        0\n",
       "dtype: int64"
      ]
     },
     "execution_count": 10,
     "metadata": {},
     "output_type": "execute_result"
    }
   ],
   "source": [
    "df.isnull().sum()"
   ]
  },
  {
   "cell_type": "code",
   "execution_count": 11,
   "id": "1bf163d1",
   "metadata": {},
   "outputs": [],
   "source": [
    "x = df.iloc[:,0:1]\n",
    "y = df.iloc[:,-1]"
   ]
  },
  {
   "cell_type": "code",
   "execution_count": 14,
   "id": "363ff375",
   "metadata": {},
   "outputs": [],
   "source": [
    "from sklearn.model_selection import train_test_split\n",
    "x_train,x_test,y_train,y_test = train_test_split(x,y,test_size=0.2)"
   ]
  },
  {
   "cell_type": "code",
   "execution_count": 15,
   "id": "1e570c60",
   "metadata": {},
   "outputs": [],
   "source": [
    "from sklearn.linear_model import LinearRegression"
   ]
  },
  {
   "cell_type": "code",
   "execution_count": 16,
   "id": "bf3835b2",
   "metadata": {},
   "outputs": [],
   "source": [
    "lr = LinearRegression()"
   ]
  },
  {
   "cell_type": "code",
   "execution_count": 17,
   "id": "1c032de8",
   "metadata": {},
   "outputs": [
    {
     "data": {
      "text/plain": [
       "LinearRegression()"
      ]
     },
     "execution_count": 17,
     "metadata": {},
     "output_type": "execute_result"
    }
   ],
   "source": [
    "lr.fit(x_train,y_train)"
   ]
  },
  {
   "cell_type": "code",
   "execution_count": 63,
   "id": "9b9a986e",
   "metadata": {},
   "outputs": [],
   "source": [
    "y_pred = lr.predict(x_test)"
   ]
  },
  {
   "cell_type": "code",
   "execution_count": 64,
   "id": "f7b602b7",
   "metadata": {},
   "outputs": [
    {
     "data": {
      "text/plain": [
       "array([838.76041104, 444.26664988, 547.04590648, 622.56332917,\n",
       "       285.53539914, 622.57369515, 581.06655828, 191.43842836,\n",
       "       385.27408249, 307.17382544, 479.79953118, 622.84296716,\n",
       "       447.95635342, 634.81206978, 604.06791719, 655.65640636,\n",
       "       510.55865012, 528.14693342, 837.46803621, 569.7382817 ,\n",
       "       305.75436041, 891.25212902, 662.09909514, 230.16662642,\n",
       "       255.72046098, 453.28443781, 312.76189879, 247.62097695,\n",
       "       337.85065105, 201.01862857, 636.57391372, 444.93278879,\n",
       "       422.28087   , 484.2582264 , 860.97172334, 671.0034946 ,\n",
       "       124.94690018, 455.18781714, 592.68637085, 361.52087028,\n",
       "       757.38874831, 386.84856554, 171.84173201, 740.90544454,\n",
       "       469.32810128, 689.71783929, 495.66139415, 309.57217272,\n",
       "       494.39738279, 536.98744768, 367.87575515, 585.88463228,\n",
       "       622.13511276, 524.63381352, 651.52921918, 530.41767876,\n",
       "       510.14123255, 686.1719349 , 203.41421584, 312.58697951,\n",
       "       561.8116354 , 796.80429461, 774.72004473, 572.16397452,\n",
       "       416.4017506 , 573.07680595, 526.46429245, 438.795814  ,\n",
       "       557.11118878, 218.328577  , 525.17252364, 378.39392823,\n",
       "       664.38705924, 365.05111403, 450.27269894, 697.04138067,\n",
       "       655.08287074, 485.07144827, 658.69117298, 799.42169602,\n",
       "       507.06376949, 395.04521748, 911.79113938, 586.17052729,\n",
       "       725.04696436, 939.42204447, 454.18181616, 546.49617799,\n",
       "       508.56405353, 858.87740987, 590.05670269, 468.8911623 ,\n",
       "       250.90856906, 245.60875587, 414.26896314, 802.4682465 ,\n",
       "       609.59682223, 534.88516858, 296.59515444, 379.82398496])"
      ]
     },
     "execution_count": 64,
     "metadata": {},
     "output_type": "execute_result"
    }
   ],
   "source": [
    "y_pred"
   ]
  },
  {
   "cell_type": "code",
   "execution_count": 51,
   "id": "c7c7b4d5",
   "metadata": {},
   "outputs": [],
   "source": [
    "from sklearn.metrics import accuracy_score"
   ]
  },
  {
   "cell_type": "code",
   "execution_count": 77,
   "id": "c7b911b0",
   "metadata": {},
   "outputs": [
    {
     "data": {
      "text/plain": [
       "0.9837776126483544"
      ]
     },
     "execution_count": 77,
     "metadata": {},
     "output_type": "execute_result"
    }
   ],
   "source": [
    "lr.score(x_test,y_test)"
   ]
  },
  {
   "cell_type": "code",
   "execution_count": 84,
   "id": "7085462c",
   "metadata": {},
   "outputs": [
    {
     "data": {
      "image/png": "[encoded data removed]",
      "text/plain": [
       "<Figure size 432x288 with 1 Axes>"
      ]
     },
     "metadata": {
      "needs_background": "light"
     },
     "output_type": "display_data"
    }
   ],
   "source": [
    "plt.scatter(df.Temperature,df.Revenue)\n",
    "plt.plot(x_train,lr.predict(x_train),color='red')\n",
    "plt.xlabel('Temperature in celcius')\n",
    "plt.ylabel('Revenue in Dollars')\n",
    "plt.title('Summmer Revenue ')\n",
    "plt.show()"
   ]
  }
 ],
 "metadata": {
  "kernelspec": {
   "display_name": "Python 3 (ipykernel)",
   "language": "python",
   "name": "python3"
  },
  "language_info": {
   "codemirror_mode": {
    "name": "ipython",
    "version": 3
   },
   "file_extension": ".py",
   "mimetype": "text/x-python",
   "name": "python",
   "nbconvert_exporter": "python",
   "pygments_lexer": "ipython3",
   "version": "3.9.7"
  }
 },
 "nbformat": 4,
 "nbformat_minor": 5
}
